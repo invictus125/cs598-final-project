{
  "nbformat": 4,
  "nbformat_minor": 0,
  "metadata": {
    "colab": {
      "provenance": [],
      "include_colab_link": true
    },
    "kernelspec": {
      "name": "python3",
      "display_name": "Python 3"
    },
    "language_info": {
      "name": "python"
    }
  },
  "cells": [
    {
      "cell_type": "markdown",
      "metadata": {
        "id": "view-in-github",
        "colab_type": "text"
      },
      "source": [
        "<a href=\"https://colab.research.google.com/github/invictus125/cs598-final-project/blob/main/intraoperative_hypotension.ipynb\" target=\"_parent\"><img src=\"https://colab.research.google.com/assets/colab-badge.svg\" alt=\"Open In Colab\"/></a>"
      ]
    },
    {
      "cell_type": "code",
      "source": [
        "# Update from github\n",
        "!git clone https://github.com/invictus125/cs598-final-project\n",
        "!cd /content/cs598-final-project && git pull"
      ],
      "metadata": {
        "id": "TFa5j_wCxBHy",
        "colab": {
          "base_uri": "https://localhost:8080/"
        },
        "outputId": "0655600b-a82f-4b3e-d6a4-64213037bfe4"
      },
      "execution_count": 1,
      "outputs": [
        {
          "output_type": "stream",
          "name": "stdout",
          "text": [
            "Cloning into 'cs598-final-project'...\n",
            "remote: Enumerating objects: 46, done.\u001b[K\n",
            "remote: Counting objects: 100% (46/46), done.\u001b[K\n",
            "remote: Compressing objects: 100% (30/30), done.\u001b[K\n",
            "remote: Total 46 (delta 20), reused 29 (delta 9), pack-reused 0\u001b[K\n",
            "Receiving objects: 100% (46/46), 13.39 KiB | 6.69 MiB/s, done.\n",
            "Resolving deltas: 100% (20/20), done.\n",
            "Already up to date.\n"
          ]
        }
      ]
    },
    {
      "cell_type": "markdown",
      "source": [
        "Link to paper: https://journals.plos.org/plosone/article?id=10.1371/journal.pone.0272055"
      ],
      "metadata": {
        "id": "lX06oeLi0kfg"
      }
    },
    {
      "cell_type": "code",
      "source": [
        "# Imports\n",
        "import sys\n",
        "sys.path.append('/content/cs598-final-project')\n",
        "from src.model import WaveformResNet, IntraoperativeHypotensionModel\n",
        "from src.train import train"
      ],
      "metadata": {
        "id": "pEeRadxs0epq"
      },
      "execution_count": 18,
      "outputs": []
    },
    {
      "cell_type": "code",
      "source": [
        "# Put together model as the paper describes (all resnets)\n",
        "abp_resnet = WaveformResNet(\n",
        "    input_shape=1234,\n",
        "    output_size=32,\n",
        "    num_residuals=12,\n",
        "    filter_size=15,\n",
        "    stride=1\n",
        ")\n",
        "\n",
        "ecg_resnet = WaveformResNet(\n",
        "    input_shape=1234,\n",
        "    output_size=32,\n",
        "    num_residuals=12,\n",
        "    filter_size=15,\n",
        "    stride=1\n",
        ")\n",
        "\n",
        "eeg_resnet = WaveformResNet(\n",
        "    input_shape=1234,\n",
        "    output_size=32,\n",
        "    num_residuals=12,\n",
        "    filter_size=7,\n",
        "    stride=1\n",
        ")\n",
        "\n",
        "model = IntraoperativeHypotensionModel(\n",
        "    abp_resnet=abp_resnet,\n",
        "    ecg_resnet=ecg_resnet,\n",
        "    eeg_resnet=eeg_resnet\n",
        ")"
      ],
      "metadata": {
        "id": "TaDtR_d2wIGI"
      },
      "execution_count": 19,
      "outputs": []
    }
  ]
}